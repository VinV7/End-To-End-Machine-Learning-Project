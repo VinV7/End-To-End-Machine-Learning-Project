{
 "cells": [
  {
   "cell_type": "markdown",
   "metadata": {},
   "source": [
    "# Model Deployment"
   ]
  },
  {
   "cell_type": "markdown",
   "metadata": {},
   "source": [
    "## Importing the required Libraries"
   ]
  },
  {
   "cell_type": "code",
   "execution_count": 1,
   "metadata": {},
   "outputs": [
    {
     "data": {
      "text/plain": [
       "True"
      ]
     },
     "execution_count": 1,
     "metadata": {},
     "output_type": "execute_result"
    }
   ],
   "source": [
    "import joblib\n",
    "from pydantic import BaseModel, Field \n",
    "from fastapi import FastAPI, HTTPException\n",
    "from typing import List\n",
    "import os\n",
    "from dotenv import load_dotenv\n",
    "import uvicorn\n",
    "from subprocess import Popen\n",
    "import pandas as pd\n",
    "\n",
    "# Loading the .env files\n",
    "load_dotenv()"
   ]
  },
  {
   "cell_type": "markdown",
   "metadata": {},
   "source": [
    "## Loading the model and the preprocessor"
   ]
  },
  {
   "cell_type": "code",
   "execution_count": 2,
   "metadata": {},
   "outputs": [],
   "source": [
    "model_path = os.getenv('MODEL_PATH')\n",
    "preprocessor_path = os.getenv('PREPROCESSOR_MODEL_PATH')\n",
    "\n",
    "rf_classifier = joblib.load(model_path)\n",
    "preprocessor = joblib.load(preprocessor_path)"
   ]
  },
  {
   "cell_type": "markdown",
   "metadata": {},
   "source": [
    "## Creating a class for Data Preprocessing and Model Prediction\n"
   ]
  },
  {
   "cell_type": "code",
   "execution_count": 3,
   "metadata": {},
   "outputs": [],
   "source": [
    "class ModelHandler:\n",
    "    def __init__(self, preprocessor, model):\n",
    "        self.preprocessor = preprocessor\n",
    "        self.model = model\n",
    "    \n",
    "    def preprocess_data(self, new_data):\n",
    "        df = pd.DataFrame(new_data)\n",
    "        processed_data = self.preprocessor.transform(df)\n",
    "        return processed_data\n",
    "    \n",
    "    def predict(self, new_data):\n",
    "        processed_data = self.preprocess_data(new_data)\n",
    "        predictions = self.model.predict(processed_data)\n",
    "        return predictions"
   ]
  },
  {
   "cell_type": "markdown",
   "metadata": {},
   "source": [
    "## FastAPI Setup"
   ]
  },
  {
   "cell_type": "code",
   "execution_count": 4,
   "metadata": {},
   "outputs": [
    {
     "name": "stderr",
     "output_type": "stream",
     "text": [
      "INFO:     Started server process [10144]\n",
      "INFO:     Waiting for application startup.\n",
      "INFO:     Application startup complete.\n",
      "INFO:     Uvicorn running on http://127.0.0.1:8000 (Press CTRL+C to quit)\n"
     ]
    },
    {
     "name": "stdout",
     "output_type": "stream",
     "text": [
      "['No']\n",
      "INFO:     127.0.0.1:60348 - \"POST /predict/ HTTP/1.1\" 200 OK\n"
     ]
    },
    {
     "name": "stderr",
     "output_type": "stream",
     "text": [
      "g:\\ML Portfolio\\end-to-end machine learning project\\.venv\\Lib\\site-packages\\sklearn\\base.py:493: UserWarning: X does not have valid feature names, but RandomForestClassifier was fitted with feature names\n",
      "  warnings.warn(\n"
     ]
    },
    {
     "name": "stdout",
     "output_type": "stream",
     "text": [
      "['No']\n",
      "INFO:     127.0.0.1:60361 - \"POST /predict/ HTTP/1.1\" 200 OK\n"
     ]
    },
    {
     "name": "stderr",
     "output_type": "stream",
     "text": [
      "g:\\ML Portfolio\\end-to-end machine learning project\\.venv\\Lib\\site-packages\\sklearn\\base.py:493: UserWarning: X does not have valid feature names, but RandomForestClassifier was fitted with feature names\n",
      "  warnings.warn(\n",
      "INFO:     Shutting down\n",
      "INFO:     Waiting for application shutdown.\n",
      "INFO:     Application shutdown complete.\n",
      "INFO:     Finished server process [10144]\n"
     ]
    }
   ],
   "source": [
    "# Handler\n",
    "handler = ModelHandler(preprocessor, rf_classifier)\n",
    "\n",
    "# Fast API Setup\n",
    "app = FastAPI()\n",
    "\n",
    "class RequestedItem(BaseModel):\n",
    "    Age: List[float]\n",
    "    Number_of_Dependents: List[int] = Field(..., alias=\"Number of Dependents\")\n",
    "    Zip_Code: List[int] = Field(..., alias=\"Zip Code\")\n",
    "    Number_of_Referrals: List[int] = Field(..., alias=\"Number of Referrals\")\n",
    "    Tenure_in_Months: List[int] = Field(..., alias=\"Tenure in Months\")\n",
    "    Avg_Monthly_Long_Distance_Charges: List[float] = Field(..., alias=\"Avg Monthly Long Distance Charges\")\n",
    "    Avg_Monthly_GB_Download: List[float] = Field(..., alias=\"Avg Monthly GB Download\")\n",
    "    Monthly_Charge: List[float] = Field(..., alias=\"Monthly Charge\")\n",
    "    Total_Charges: List[float] = Field(..., alias=\"Total Charges\")\n",
    "    Total_Refunds: List[float] = Field(..., alias=\"Total Refunds\")\n",
    "    Total_Extra_Data_Charges: List[float] = Field(..., alias=\"Total Extra Data Charges\")\n",
    "    Total_Long_Distance_Charges: List[float] = Field(..., alias=\"Total Long Distance Charges\")\n",
    "    Total_Revenue: List[float] = Field(..., alias=\"Total Revenue\")\n",
    "    Satisfaction_Score: List[int] = Field(..., alias=\"Satisfaction Score\")\n",
    "    Churn_Score: List[int] = Field(..., alias=\"Churn Score\")\n",
    "    CLTV: List[int]\n",
    "    Gender: List[str]\n",
    "    Under_30: List[str] = Field(..., alias=\"Under 30\")\n",
    "    Senior_Citizen: List[str] = Field(..., alias=\"Senior Citizen\")\n",
    "    Married: List[str]\n",
    "    Dependents: List[str]\n",
    "    City: List[str]\n",
    "    Phone_Service: List[str] = Field(..., alias=\"Phone Service\")\n",
    "    Multiple_Lines: List[str] = Field(..., alias=\"Multiple Lines\")\n",
    "    Internet_Service: List[str] = Field(..., alias=\"Internet Service\")\n",
    "    Online_Security: List[str] = Field(..., alias=\"Online Security\")\n",
    "    Online_Backup: List[str] = Field(..., alias=\"Online Backup\")\n",
    "    Device_Protection_Plan: List[str] = Field(..., alias=\"Device Protection Plan\")\n",
    "    Premium_Tech_Support: List[str] = Field(..., alias=\"Premium Tech Support\")\n",
    "    Streaming_TV: List[str] = Field(..., alias=\"Streaming TV\")\n",
    "    Streaming_Movies: List[str] = Field(..., alias=\"Streaming Movies\")\n",
    "    Streaming_Music: List[str] = Field(..., alias=\"Streaming Music\")\n",
    "    Unlimited_Data: List[str] = Field(..., alias=\"Unlimited Data\")\n",
    "    Contract: List[str]\n",
    "\n",
    "    class Config:\n",
    "        populate_by_name = True\n",
    "\n",
    "@app.post('/predict/')\n",
    "async def predict(request: List[RequestedItem]):\n",
    "    try:\n",
    "        data = [item.dict(by_alias=True, exclude_unset=True, exclude_defaults=True) for item in request]\n",
    "        data = data[0]\n",
    "        prediction = handler.predict(data)\n",
    "        print(prediction)\n",
    "        return {\n",
    "            \"Prediction\": prediction.tolist()\n",
    "        }\n",
    "    except Exception as e:\n",
    "        raise HTTPException(status_code=400, detail=str(e))\n",
    "\n",
    "if __name__ == \"__main__\":\n",
    "    config = uvicorn.Config(app)\n",
    "    server = uvicorn.Server(config)\n",
    "    await server.serve()\n"
   ]
  }
 ],
 "metadata": {
  "kernelspec": {
   "display_name": ".venv",
   "language": "python",
   "name": "python3"
  },
  "language_info": {
   "codemirror_mode": {
    "name": "ipython",
    "version": 3
   },
   "file_extension": ".py",
   "mimetype": "text/x-python",
   "name": "python",
   "nbconvert_exporter": "python",
   "pygments_lexer": "ipython3",
   "version": "3.12.1"
  }
 },
 "nbformat": 4,
 "nbformat_minor": 2
}
